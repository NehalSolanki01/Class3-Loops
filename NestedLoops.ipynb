{
  "nbformat": 4,
  "nbformat_minor": 0,
  "metadata": {
    "colab": {
      "provenance": []
    },
    "kernelspec": {
      "name": "python3",
      "display_name": "Python 3"
    },
    "language_info": {
      "name": "python"
    }
  },
  "cells": [
    {
      "cell_type": "code",
      "execution_count": 1,
      "metadata": {
        "colab": {
          "base_uri": "https://localhost:8080/"
        },
        "id": "R5wtS7NMBAFA",
        "outputId": "2c616c51-f5f2-4d81-a492-841b1b46f6e5"
      },
      "outputs": [
        {
          "output_type": "stream",
          "name": "stdout",
          "text": [
            "N * * * *\n",
            "* E * * *\n",
            "* * H * *\n",
            "* * * A *\n",
            "* * * * L\n"
          ]
        }
      ],
      "source": [
        "# Word to print diagonally\n",
        "word = \"NEHAL\"\n",
        "rows = 5\n",
        "\n",
        "# Loop through each row\n",
        "for i in range(rows):\n",
        "    # Print N directly, and for E, H, A, L, increase the number of stars before each letter\n",
        "    print(\"*\"\" \" * i + word[i] +\" \" \"*\" * (rows - i - 1))"
      ]
    },
    {
      "cell_type": "code",
      "source": [
        "word = \"NEHAL\"\n",
        "rows = 5\n",
        "\n",
        "for i in range(rows):\n",
        "  print((rows -i -1) * \"*\" \" \" + word[i])"
      ],
      "metadata": {
        "colab": {
          "base_uri": "https://localhost:8080/"
        },
        "id": "OQd-oXDBBsK0",
        "outputId": "2665a093-683d-43f8-e892-2d95b6cf3883"
      },
      "execution_count": 6,
      "outputs": [
        {
          "output_type": "stream",
          "name": "stdout",
          "text": [
            "* * * * N\n",
            "* * * E\n",
            "* * H\n",
            "* A\n",
            "L\n"
          ]
        }
      ]
    },
    {
      "cell_type": "code",
      "source": [
        "word = \"NEHAL\"\n",
        "rows = 5\n",
        "\n",
        "for i in range(rows):\n",
        "    print(\"*\"\" \" + word[i] + \" \" \"*\" \" \" * 3)"
      ],
      "metadata": {
        "colab": {
          "base_uri": "https://localhost:8080/"
        },
        "id": "H3NR4NhcCJBy",
        "outputId": "9dfd9b42-f9e5-49c8-f12b-c43ee6d7e547"
      },
      "execution_count": 7,
      "outputs": [
        {
          "output_type": "stream",
          "name": "stdout",
          "text": [
            "* N *  *  * \n",
            "* E *  *  * \n",
            "* H *  *  * \n",
            "* A *  *  * \n",
            "* L *  *  * \n"
          ]
        }
      ]
    },
    {
      "cell_type": "code",
      "source": [
        "word = \"NEHAL\"\n",
        "rows = 5\n",
        "\n",
        "for i in range(rows):\n",
        "    print(\" \" \"*\" \" \" * 3 + \" \" \"*\"\" \" + word[i])"
      ],
      "metadata": {
        "colab": {
          "base_uri": "https://localhost:8080/"
        },
        "id": "9NgDZNe2CNMC",
        "outputId": "c6f1de01-cc05-4873-a2e0-898b51f10966"
      },
      "execution_count": 19,
      "outputs": [
        {
          "output_type": "stream",
          "name": "stdout",
          "text": [
            " *  *  *  * N\n",
            " *  *  *  * E\n",
            " *  *  *  * H\n",
            " *  *  *  * A\n",
            " *  *  *  * L\n"
          ]
        }
      ]
    },
    {
      "cell_type": "code",
      "source": [
        "#Name at the end & Upside down\n",
        "word = \"NEHAL\"\n",
        "rows = 5\n",
        "\n",
        "for i in range(rows):\n",
        "    print(\" \" \"*\" \" \" * 3 + \" \" \"*\"\" \" + word[4-i])"
      ],
      "metadata": {
        "colab": {
          "base_uri": "https://localhost:8080/"
        },
        "id": "QGftL458C8oL",
        "outputId": "85798427-2b3a-4c9a-e52a-f13ee8abfd05"
      },
      "execution_count": 20,
      "outputs": [
        {
          "output_type": "stream",
          "name": "stdout",
          "text": [
            " *  *  *  * L\n",
            " *  *  *  * A\n",
            " *  *  *  * H\n",
            " *  *  *  * E\n",
            " *  *  *  * N\n"
          ]
        }
      ]
    }
  ]
}