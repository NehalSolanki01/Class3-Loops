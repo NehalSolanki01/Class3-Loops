{
  "nbformat": 4,
  "nbformat_minor": 0,
  "metadata": {
    "colab": {
      "provenance": []
    },
    "kernelspec": {
      "name": "python3",
      "display_name": "Python 3"
    },
    "language_info": {
      "name": "python"
    }
  },
  "cells": [
    {
      "cell_type": "code",
      "execution_count": null,
      "metadata": {
        "id": "xWCvOecciq5t"
      },
      "outputs": [],
      "source": [
        "#Creating a list of ingredients for a sandwich\n"
      ]
    },
    {
      "cell_type": "code",
      "source": [
        "groc_list = [\"Bread\", \"Mayo\", \"Ketchup\", \"Lettuce\", \"Cucumber\", \"Tomato\", \"Cheese\", \"Butter\"]\n",
        "print(groc_list)"
      ],
      "metadata": {
        "colab": {
          "base_uri": "https://localhost:8080/"
        },
        "id": "E4buJpqtp35L",
        "outputId": "db6c6b83-bdfc-4818-82cd-4aced2c2248d"
      },
      "execution_count": null,
      "outputs": [
        {
          "output_type": "stream",
          "name": "stdout",
          "text": [
            "['Bread', 'Mayo', 'Ketchup', 'Lettuce', 'Cucumber', 'Tomato', 'Cheese', 'Butter']\n"
          ]
        }
      ]
    },
    {
      "cell_type": "code",
      "source": [
        "#Using len function to get length of the list\n",
        "\n",
        "len(groc_list)\n",
        "#there are 8 elements in the list"
      ],
      "metadata": {
        "colab": {
          "base_uri": "https://localhost:8080/"
        },
        "id": "RGnr2jSWsJhF",
        "outputId": "86cf5dc1-bbb8-4380-8979-ab725ee56aa2"
      },
      "execution_count": null,
      "outputs": [
        {
          "output_type": "execute_result",
          "data": {
            "text/plain": [
              "8"
            ]
          },
          "metadata": {},
          "execution_count": 5
        }
      ]
    },
    {
      "cell_type": "code",
      "source": [
        "#Using Slicing\n",
        "#Getting first 3 elements\n",
        "groc_list[0:3]"
      ],
      "metadata": {
        "colab": {
          "base_uri": "https://localhost:8080/"
        },
        "id": "ltp0M635sQXe",
        "outputId": "204d99e8-b2b9-49ea-bb61-a97dbc221692"
      },
      "execution_count": null,
      "outputs": [
        {
          "output_type": "execute_result",
          "data": {
            "text/plain": [
              "['Bread', 'Mayo', 'Ketchup']"
            ]
          },
          "metadata": {},
          "execution_count": 7
        }
      ]
    },
    {
      "cell_type": "code",
      "source": [
        "#Getting last 3 elements\n",
        "groc_list[-3:]"
      ],
      "metadata": {
        "colab": {
          "base_uri": "https://localhost:8080/"
        },
        "id": "TrJY_VyVwfF2",
        "outputId": "6510339b-8a98-41ef-8942-ec0ed5aec898"
      },
      "execution_count": null,
      "outputs": [
        {
          "output_type": "execute_result",
          "data": {
            "text/plain": [
              "['Tomato', 'Cheese', 'Butter']"
            ]
          },
          "metadata": {},
          "execution_count": 31
        }
      ]
    },
    {
      "cell_type": "code",
      "source": [
        "#Doubt: Need explanation\n",
        "groc_list[-5:-3]\n"
      ],
      "metadata": {
        "colab": {
          "base_uri": "https://localhost:8080/"
        },
        "id": "bxOfixVH-tFA",
        "outputId": "81da7433-8ec7-4a1f-bba1-8b1f6938f47c"
      },
      "execution_count": null,
      "outputs": [
        {
          "output_type": "execute_result",
          "data": {
            "text/plain": [
              "['Lettuce', 'Cucumber']"
            ]
          },
          "metadata": {},
          "execution_count": 32
        }
      ]
    },
    {
      "cell_type": "code",
      "source": [
        "#Slicing usin step\n",
        "#Getting every 2nd ingred.\n",
        "groc_list[1::2]"
      ],
      "metadata": {
        "colab": {
          "base_uri": "https://localhost:8080/"
        },
        "id": "c-b5k3QCxK9L",
        "outputId": "162ab12f-35ee-46dc-b054-40e1ca9e20f5"
      },
      "execution_count": null,
      "outputs": [
        {
          "output_type": "execute_result",
          "data": {
            "text/plain": [
              "['Mayo', 'Lettuce', 'Tomato', 'Butter']"
            ]
          },
          "metadata": {},
          "execution_count": 27
        }
      ]
    },
    {
      "cell_type": "markdown",
      "source": [],
      "metadata": {
        "id": "hZ0rRYWHyoM6"
      }
    },
    {
      "cell_type": "code",
      "source": [
        "#ingredients from index 3 to end of the list.\n",
        "groc_list[3:]"
      ],
      "metadata": {
        "colab": {
          "base_uri": "https://localhost:8080/"
        },
        "id": "ezRjzWHczpZD",
        "outputId": "2b9fd298-ba1d-4b4c-c955-ec953227a4d5"
      },
      "execution_count": null,
      "outputs": [
        {
          "output_type": "execute_result",
          "data": {
            "text/plain": [
              "['Lettuce', 'Cucumber', 'Tomato', 'Cheese', 'Butter']"
            ]
          },
          "metadata": {},
          "execution_count": 23
        }
      ]
    },
    {
      "cell_type": "markdown",
      "source": [
        "# **Creating list with Subject and Marks**"
      ],
      "metadata": {
        "id": "Fs0nfnoi_Vp_"
      }
    },
    {
      "cell_type": "code",
      "source": [
        "Sub_Marks = [\"English\", 82, \"Maths\", 90, \"Science\", 88, \"History\", 75, \"PE\", 80, \"Arts\", 68]\n",
        "print(Sub_Marks)"
      ],
      "metadata": {
        "colab": {
          "base_uri": "https://localhost:8080/"
        },
        "id": "AhRBSj3z_gsF",
        "outputId": "bb8373fb-55ef-4bde-e332-fab5d5e0e373"
      },
      "execution_count": null,
      "outputs": [
        {
          "output_type": "stream",
          "name": "stdout",
          "text": [
            "['English', 82, 'Maths', 90, 'Science', 88, 'History', 75, 'PE', 80, 'Arts', 68]\n"
          ]
        }
      ]
    },
    {
      "cell_type": "code",
      "source": [
        "#Extracting Marks only (82 is at position 1 so will start at 1 and continue with every 2 steps excluding subject names)\n",
        "Sub_Marks[1::2]"
      ],
      "metadata": {
        "colab": {
          "base_uri": "https://localhost:8080/"
        },
        "id": "aI7QPhhEBBt_",
        "outputId": "0cb39c26-13fb-4d7e-9330-20e0fa7d10be"
      },
      "execution_count": null,
      "outputs": [
        {
          "output_type": "execute_result",
          "data": {
            "text/plain": [
              "[82, 90, 88, 75, 80, 68]"
            ]
          },
          "metadata": {},
          "execution_count": 55
        }
      ]
    },
    {
      "cell_type": "code",
      "source": [
        "#Which subject got highest marks?\n",
        "max_marks = max(Sub_Marks[1::2])\n",
        "print(max_marks)"
      ],
      "metadata": {
        "colab": {
          "base_uri": "https://localhost:8080/"
        },
        "id": "uIHpLjJUEQR_",
        "outputId": "17ce02e0-b795-453d-ef9f-b01ff64b3762"
      },
      "execution_count": null,
      "outputs": [
        {
          "output_type": "stream",
          "name": "stdout",
          "text": [
            "90\n"
          ]
        }
      ]
    },
    {
      "cell_type": "code",
      "source": [
        "#to find which subject got highest mark first find index of the highest marks in sliced list\n",
        "max_marks_index = Sub_Marks[1::2].index(max_marks)\n",
        "print(max_marks_index)"
      ],
      "metadata": {
        "colab": {
          "base_uri": "https://localhost:8080/"
        },
        "id": "ENxNPpVyEQr7",
        "outputId": "9995b14b-e542-4d81-daa7-8edb7fb1a9a1"
      },
      "execution_count": null,
      "outputs": [
        {
          "output_type": "stream",
          "name": "stdout",
          "text": [
            "1\n"
          ]
        }
      ]
    },
    {
      "cell_type": "code",
      "source": [
        "#now find the subject **Please Explain Why *??\n",
        "Sub_Marks = [max_marks_index * 2]\n",
        "print(Sub_Marks)"
      ],
      "metadata": {
        "colab": {
          "base_uri": "https://localhost:8080/",
          "height": 176
        },
        "id": "80f30I6cHzd1",
        "outputId": "32d7babf-1f0c-49a2-afef-55a92c950bfb"
      },
      "execution_count": null,
      "outputs": [
        {
          "output_type": "error",
          "ename": "NameError",
          "evalue": "name 'max_marks_index' is not defined",
          "traceback": [
            "\u001b[0;31m---------------------------------------------------------------------------\u001b[0m",
            "\u001b[0;31mNameError\u001b[0m                                 Traceback (most recent call last)",
            "\u001b[0;32m<ipython-input-6-0070efb658a8>\u001b[0m in \u001b[0;36m<cell line: 2>\u001b[0;34m()\u001b[0m\n\u001b[1;32m      1\u001b[0m \u001b[0;31m#now find the subject **Please Explain Why *??\u001b[0m\u001b[0;34m\u001b[0m\u001b[0;34m\u001b[0m\u001b[0m\n\u001b[0;32m----> 2\u001b[0;31m \u001b[0mSub_Marks\u001b[0m \u001b[0;34m=\u001b[0m \u001b[0;34m[\u001b[0m\u001b[0mmax_marks_index\u001b[0m \u001b[0;34m*\u001b[0m \u001b[0;36m2\u001b[0m\u001b[0;34m]\u001b[0m\u001b[0;34m\u001b[0m\u001b[0;34m\u001b[0m\u001b[0m\n\u001b[0m\u001b[1;32m      3\u001b[0m \u001b[0mprint\u001b[0m\u001b[0;34m(\u001b[0m\u001b[0mSub_Marks\u001b[0m\u001b[0;34m)\u001b[0m\u001b[0;34m\u001b[0m\u001b[0;34m\u001b[0m\u001b[0m\n",
            "\u001b[0;31mNameError\u001b[0m: name 'max_marks_index' is not defined"
          ]
        }
      ]
    },
    {
      "cell_type": "code",
      "source": [],
      "metadata": {
        "id": "4xNgNmW0zCxX"
      },
      "execution_count": null,
      "outputs": []
    }
  ]
}