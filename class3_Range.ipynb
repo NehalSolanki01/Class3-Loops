{
  "nbformat": 4,
  "nbformat_minor": 0,
  "metadata": {
    "colab": {
      "provenance": []
    },
    "kernelspec": {
      "name": "python3",
      "display_name": "Python 3"
    },
    "language_info": {
      "name": "python"
    }
  },
  "cells": [
    {
      "cell_type": "code",
      "execution_count": null,
      "metadata": {
        "id": "VjEAh-3pVRju"
      },
      "outputs": [],
      "source": []
    },
    {
      "cell_type": "markdown",
      "source": [
        "Assume you have random list of numbers, write a python code to count the occurence of particular number"
      ],
      "metadata": {
        "id": "N5QXrrzlVWZC"
      }
    },
    {
      "cell_type": "code",
      "source": [
        "# Get user input\n",
        "start = int(input(\"Enter the start of the range: \"))\n",
        "end = int(input(\"Enter the end of the range: \"))\n",
        "divisor = int(input(\"Enter the number to divide by: \"))\n",
        "\n",
        "# Print divisible numbers\n",
        "print(f\"Numbers divisible by {divisor} in the range {start} to {end}:\")\n",
        "for num in range(start, end + 1): #Here putting +1 so that end number is included otherwise in range function last number is exluded.\n",
        "    if num % divisor == 0: #if number is divided by given number.\n",
        "        print(num, end=\",\")"
      ],
      "metadata": {
        "colab": {
          "base_uri": "https://localhost:8080/"
        },
        "id": "E3pbQEHeXhDI",
        "outputId": "2689ddfd-b7e8-4e6d-a2b1-4ad0da1bc8a1"
      },
      "execution_count": 11,
      "outputs": [
        {
          "output_type": "stream",
          "name": "stdout",
          "text": [
            "Enter the start of the range: 50\n",
            "Enter the end of the range: 60\n",
            "Enter the number to divide by: 3\n",
            "Numbers divisible by 3 in the range 50 to 60:\n",
            "51,54,57,60,"
          ]
        }
      ]
    },
    {
      "cell_type": "markdown",
      "source": [
        "**What happens when start range number is bigger than end number? Programm still runs but there is no output. ** Improve programe to make sure start range is smaller then end range."
      ],
      "metadata": {
        "id": "DDSmzddPaprg"
      }
    },
    {
      "cell_type": "code",
      "source": [],
      "metadata": {
        "id": "3qzZkITLbXnB"
      },
      "execution_count": null,
      "outputs": []
    },
    {
      "cell_type": "code",
      "source": [
        "# Get user input\n",
        "start = int(input(\"Enter the start of the range: \"))\n",
        "end = int(input(\"Enter the end of the range: \"))\n",
        "divisor = int(input(\"Enter the number to divide by: \"))\n",
        "\n",
        "if start > end: # Check if start range is smaller than end range\n",
        "    print(\"Error: Start range must be smaller than end range.\")\n",
        "else:\n",
        "# Print divisible numbers\n",
        "    print(f\"Numbers divisible by {divisor} in the range {start} to {end}:\")\n",
        "for num in range(start, end + 1): #Here putting +1 so that end number is included otherwise in range function last number is exluded.\n",
        "    if num % divisor == 0: #if number is divided by given number.\n",
        "        print(num, end=\",\")"
      ],
      "metadata": {
        "colab": {
          "base_uri": "https://localhost:8080/"
        },
        "id": "FGqfRxXLbX5M",
        "outputId": "fac6f0de-aaa2-42d3-d8ea-38af5bfeabc4"
      },
      "execution_count": 13,
      "outputs": [
        {
          "output_type": "stream",
          "name": "stdout",
          "text": [
            "Enter the start of the range: 30\n",
            "Enter the end of the range: 20\n",
            "Enter the number to divide by: 2\n",
            "Error: Start range must be smaller than end range.\n"
          ]
        }
      ]
    }
  ]
}